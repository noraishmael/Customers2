{
 "cells": [
  {
   "cell_type": "code",
   "execution_count": 1,
   "metadata": {},
   "outputs": [
    {
     "name": "stdout",
     "output_type": "stream",
     "text": [
      "I have generated a number for you randomly. Can you guess what it is?\n",
      "The number is between 1 and 20\n"
     ]
    },
    {
     "ename": "TypeError",
     "evalue": "'>' not supported between instances of 'int' and 'function'",
     "output_type": "error",
     "traceback": [
      "\u001b[1;31m---------------------------------------------------------------------------\u001b[0m",
      "\u001b[1;31mTypeError\u001b[0m                                 Traceback (most recent call last)",
      "Cell \u001b[1;32mIn[1], line 28\u001b[0m\n\u001b[0;32m     26\u001b[0m \u001b[38;5;28;01mwhile\u001b[39;00m \u001b[38;5;28;01mTrue\u001b[39;00m:\n\u001b[0;32m     27\u001b[0m    user_input \u001b[38;5;241m=\u001b[39m number_gen\n\u001b[1;32m---> 28\u001b[0m    \u001b[38;5;28;01mif\u001b[39;00m \u001b[43muser_input\u001b[49m\u001b[43m \u001b[49m\u001b[38;5;241;43m>\u001b[39;49m\u001b[43m \u001b[49m\u001b[43mrandom_gen\u001b[49m:\n\u001b[0;32m     29\u001b[0m       \u001b[38;5;28mprint\u001b[39m(\u001b[38;5;124m'\u001b[39m\u001b[38;5;124mYour guess is too high.\u001b[39m\u001b[38;5;124m'\u001b[39m)\n\u001b[0;32m     30\u001b[0m    \u001b[38;5;28;01melif\u001b[39;00m user_input \u001b[38;5;241m<\u001b[39m random_gen:\n",
      "\u001b[1;31mTypeError\u001b[0m: '>' not supported between instances of 'int' and 'function'"
     ]
    }
   ],
   "source": [
    "# Guess the Number (Assignment 2)\n",
    "#Room 5 - David Osei Antwi, Deirdre Boland, Nora Ishmael, Daniel Popowych Jan 2025\n",
    " \n",
    "#import random function \n",
    "import random\n",
    "\n",
    "#set min and max variables \n",
    "max_number = 20\n",
    "min_number = 1\n",
    "\n",
    "#randomly generate number\n",
    "#function randomly grabs number within range\n",
    "#setting default values with the random generating function\n",
    "def random_gen(min_number=1, max_number=20):\n",
    "    number_gen = random.randint(min_number,max_number)\n",
    "    #tell user a number will be generated randomly\n",
    "    print(f'I have generated a number for you randomly. Can you guess what it is?')\n",
    "\n",
    "#runfunction\n",
    "random_gen()\n",
    "\n",
    "#ask user to guess the number\n",
    "print(f'The number is between {min_number} and {max_number}')\n",
    "\n",
    "number_gen = random.randint(min_number,max_number)\n",
    "while True:\n",
    "   user_input = number_gen\n",
    "   if user_input > random_gen:\n",
    "      print('Your guess is too high.')\n",
    "   elif user_input < random_gen:\n",
    "      print(\"Your guess is too low\")\n",
    "   else:\n",
    "      print(\"Your guess is correct\")\n"
   ]
  }
 ],
 "metadata": {
  "kernelspec": {
   "display_name": "Python 3",
   "language": "python",
   "name": "python3"
  },
  "language_info": {
   "codemirror_mode": {
    "name": "ipython",
    "version": 3
   },
   "file_extension": ".py",
   "mimetype": "text/x-python",
   "name": "python",
   "nbconvert_exporter": "python",
   "pygments_lexer": "ipython3",
   "version": "3.11.9"
  }
 },
 "nbformat": 4,
 "nbformat_minor": 2
}
